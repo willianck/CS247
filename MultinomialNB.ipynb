{
  "nbformat": 4,
  "nbformat_minor": 0,
  "metadata": {
    "colab": {
      "name": "MultinomialNB.ipynb",
      "provenance": [],
      "machine_shape": "hm"
    },
    "kernelspec": {
      "name": "python3",
      "display_name": "Python 3"
    },
    "language_info": {
      "name": "python"
    },
    "accelerator": "GPU"
  },
  "cells": [
    {
      "cell_type": "code",
      "execution_count": 1,
      "metadata": {
        "colab": {
          "base_uri": "https://localhost:8080/"
        },
        "id": "JxMbJ6RW3mmV",
        "outputId": "6ec1dd45-1cca-4438-f99f-54b058f2c425"
      },
      "outputs": [
        {
          "output_type": "stream",
          "name": "stdout",
          "text": [
            "Mounted at /content/drive\n"
          ]
        }
      ],
      "source": [
        "import pickle\n",
        "import  torch\n",
        "from wordcloud import WordCloud\n",
        "from sklearn.naive_bayes import MultinomialNB\n",
        "import numpy as np\n",
        "from sklearn.feature_extraction.text import TfidfTransformer, CountVectorizer\n",
        "from google.colab import drive\n",
        "drive.mount('/content/drive')\n",
        "\n"
      ]
    },
    {
      "cell_type": "code",
      "source": [
        "# change the data path to yours to have access to the files in your google drive\n",
        "DATA_PATH = \"/content/drive/MyDrive/CS247\""
      ],
      "metadata": {
        "id": "6D3u7Dgf5KTQ"
      },
      "execution_count": 2,
      "outputs": []
    },
    {
      "cell_type": "markdown",
      "source": [
        "Reading Data from drive"
      ],
      "metadata": {
        "id": "XeJZxhAi5PCu"
      }
    },
    {
      "cell_type": "code",
      "source": [
        "with open(DATA_PATH + '/train_data.pkl', 'rb') as fid:\n",
        "     train_data= pickle.load(fid)\n",
        "\n",
        "with open(DATA_PATH + '/valid_data.pkl', 'rb') as fid:\n",
        "     valid_data= pickle.load(fid)\n",
        "\n",
        "with open(DATA_PATH + '/test_data.pkl', 'rb') as fid:\n",
        "     test_data= pickle.load(fid)\n",
        "\n",
        "with open(DATA_PATH + '/data.pkl', 'rb') as fid:\n",
        "     data= pickle.load(fid)"
      ],
      "metadata": {
        "id": "gNOTfW9x5S9B"
      },
      "execution_count": 3,
      "outputs": []
    },
    {
      "cell_type": "code",
      "source": [
        "train_data.head()"
      ],
      "metadata": {
        "colab": {
          "base_uri": "https://localhost:8080/",
          "height": 206
        },
        "id": "mwdkHUUf7z_f",
        "outputId": "21ed596e-adaa-4028-9bf0-52f569103367"
      },
      "execution_count": 4,
      "outputs": [
        {
          "output_type": "execute_result",
          "data": {
            "text/html": [
              "\n",
              "  <div id=\"df-6e39b4df-6520-421f-b6e7-fa212febebe4\">\n",
              "    <div class=\"colab-df-container\">\n",
              "      <div>\n",
              "<style scoped>\n",
              "    .dataframe tbody tr th:only-of-type {\n",
              "        vertical-align: middle;\n",
              "    }\n",
              "\n",
              "    .dataframe tbody tr th {\n",
              "        vertical-align: top;\n",
              "    }\n",
              "\n",
              "    .dataframe thead th {\n",
              "        text-align: right;\n",
              "    }\n",
              "</style>\n",
              "<table border=\"1\" class=\"dataframe\">\n",
              "  <thead>\n",
              "    <tr style=\"text-align: right;\">\n",
              "      <th></th>\n",
              "      <th>id</th>\n",
              "      <th>comment_text</th>\n",
              "      <th>toxic</th>\n",
              "      <th>severe_toxic</th>\n",
              "      <th>obscene</th>\n",
              "      <th>threat</th>\n",
              "      <th>insult</th>\n",
              "      <th>identity_hate</th>\n",
              "      <th>Target</th>\n",
              "      <th>comment_text_wp</th>\n",
              "      <th>comment_tokenize</th>\n",
              "      <th>comment</th>\n",
              "    </tr>\n",
              "  </thead>\n",
              "  <tbody>\n",
              "    <tr>\n",
              "      <th>112366</th>\n",
              "      <td>591e7ceac4e56588</td>\n",
              "      <td>Would agree. While it's clear that GQ is ripe ...</td>\n",
              "      <td>0</td>\n",
              "      <td>0</td>\n",
              "      <td>0</td>\n",
              "      <td>0</td>\n",
              "      <td>0</td>\n",
              "      <td>0</td>\n",
              "      <td>[0, 0, 0, 0, 0, 0]</td>\n",
              "      <td>would agree clear gq ripe trek references refe...</td>\n",
              "      <td>[would, agree, clear, gq, ripe, trek, referenc...</td>\n",
              "      <td>would agree while it is clear that gq is ripe ...</td>\n",
              "    </tr>\n",
              "    <tr>\n",
              "      <th>108254</th>\n",
              "      <td>42aab9d0fdd419ed</td>\n",
              "      <td>WrestleMania \\n\\nYou son of a bitch!!! a Moron!</td>\n",
              "      <td>1</td>\n",
              "      <td>0</td>\n",
              "      <td>1</td>\n",
              "      <td>0</td>\n",
              "      <td>1</td>\n",
              "      <td>0</td>\n",
              "      <td>[1, 0, 1, 0, 1, 0]</td>\n",
              "      <td>wrestlemania son bitch moron</td>\n",
              "      <td>[wrestlemania, son, bitch, moron]</td>\n",
              "      <td>wrestlemania you son of a bitch a moron</td>\n",
              "    </tr>\n",
              "    <tr>\n",
              "      <th>57809</th>\n",
              "      <td>9abcc8c3f9280395</td>\n",
              "      <td>Larry Doby \\n\\nI've left some comments on that...</td>\n",
              "      <td>0</td>\n",
              "      <td>0</td>\n",
              "      <td>0</td>\n",
              "      <td>0</td>\n",
              "      <td>0</td>\n",
              "      <td>0</td>\n",
              "      <td>[0, 0, 0, 0, 0, 0]</td>\n",
              "      <td>larry doby left comments section talk page fee...</td>\n",
              "      <td>[larry, doby, left, comments, section, talk, p...</td>\n",
              "      <td>larry doby i have left some comments on that s...</td>\n",
              "    </tr>\n",
              "    <tr>\n",
              "      <th>61339</th>\n",
              "      <td>a43208fc2de19df8</td>\n",
              "      <td>\"\\n\\nFor kicks, the primary author of \"\"Cartma...</td>\n",
              "      <td>0</td>\n",
              "      <td>0</td>\n",
              "      <td>0</td>\n",
              "      <td>0</td>\n",
              "      <td>0</td>\n",
              "      <td>0</td>\n",
              "      <td>[0, 0, 0, 0, 0, 0]</td>\n",
              "      <td>kicks primary author cartman gets anal probe f...</td>\n",
              "      <td>[kicks, primary, author, cartman, gets, anal, ...</td>\n",
              "      <td>for kicks the primary author of cartman gets a...</td>\n",
              "    </tr>\n",
              "    <tr>\n",
              "      <th>158189</th>\n",
              "      <td>ea2714389f753568</td>\n",
              "      <td>\" edit area. Do not include the \"\"tlx|\"\" code....</td>\n",
              "      <td>0</td>\n",
              "      <td>0</td>\n",
              "      <td>0</td>\n",
              "      <td>0</td>\n",
              "      <td>0</td>\n",
              "      <td>0</td>\n",
              "      <td>[0, 0, 0, 0, 0, 0]</td>\n",
              "      <td>edit area include tlx code tlx unblock reason ...</td>\n",
              "      <td>[edit, area, include, tlx, code, tlx, unblock,...</td>\n",
              "      <td>edit area do not include the tlx code tlx unbl...</td>\n",
              "    </tr>\n",
              "  </tbody>\n",
              "</table>\n",
              "</div>\n",
              "      <button class=\"colab-df-convert\" onclick=\"convertToInteractive('df-6e39b4df-6520-421f-b6e7-fa212febebe4')\"\n",
              "              title=\"Convert this dataframe to an interactive table.\"\n",
              "              style=\"display:none;\">\n",
              "        \n",
              "  <svg xmlns=\"http://www.w3.org/2000/svg\" height=\"24px\"viewBox=\"0 0 24 24\"\n",
              "       width=\"24px\">\n",
              "    <path d=\"M0 0h24v24H0V0z\" fill=\"none\"/>\n",
              "    <path d=\"M18.56 5.44l.94 2.06.94-2.06 2.06-.94-2.06-.94-.94-2.06-.94 2.06-2.06.94zm-11 1L8.5 8.5l.94-2.06 2.06-.94-2.06-.94L8.5 2.5l-.94 2.06-2.06.94zm10 10l.94 2.06.94-2.06 2.06-.94-2.06-.94-.94-2.06-.94 2.06-2.06.94z\"/><path d=\"M17.41 7.96l-1.37-1.37c-.4-.4-.92-.59-1.43-.59-.52 0-1.04.2-1.43.59L10.3 9.45l-7.72 7.72c-.78.78-.78 2.05 0 2.83L4 21.41c.39.39.9.59 1.41.59.51 0 1.02-.2 1.41-.59l7.78-7.78 2.81-2.81c.8-.78.8-2.07 0-2.86zM5.41 20L4 18.59l7.72-7.72 1.47 1.35L5.41 20z\"/>\n",
              "  </svg>\n",
              "      </button>\n",
              "      \n",
              "  <style>\n",
              "    .colab-df-container {\n",
              "      display:flex;\n",
              "      flex-wrap:wrap;\n",
              "      gap: 12px;\n",
              "    }\n",
              "\n",
              "    .colab-df-convert {\n",
              "      background-color: #E8F0FE;\n",
              "      border: none;\n",
              "      border-radius: 50%;\n",
              "      cursor: pointer;\n",
              "      display: none;\n",
              "      fill: #1967D2;\n",
              "      height: 32px;\n",
              "      padding: 0 0 0 0;\n",
              "      width: 32px;\n",
              "    }\n",
              "\n",
              "    .colab-df-convert:hover {\n",
              "      background-color: #E2EBFA;\n",
              "      box-shadow: 0px 1px 2px rgba(60, 64, 67, 0.3), 0px 1px 3px 1px rgba(60, 64, 67, 0.15);\n",
              "      fill: #174EA6;\n",
              "    }\n",
              "\n",
              "    [theme=dark] .colab-df-convert {\n",
              "      background-color: #3B4455;\n",
              "      fill: #D2E3FC;\n",
              "    }\n",
              "\n",
              "    [theme=dark] .colab-df-convert:hover {\n",
              "      background-color: #434B5C;\n",
              "      box-shadow: 0px 1px 3px 1px rgba(0, 0, 0, 0.15);\n",
              "      filter: drop-shadow(0px 1px 2px rgba(0, 0, 0, 0.3));\n",
              "      fill: #FFFFFF;\n",
              "    }\n",
              "  </style>\n",
              "\n",
              "      <script>\n",
              "        const buttonEl =\n",
              "          document.querySelector('#df-6e39b4df-6520-421f-b6e7-fa212febebe4 button.colab-df-convert');\n",
              "        buttonEl.style.display =\n",
              "          google.colab.kernel.accessAllowed ? 'block' : 'none';\n",
              "\n",
              "        async function convertToInteractive(key) {\n",
              "          const element = document.querySelector('#df-6e39b4df-6520-421f-b6e7-fa212febebe4');\n",
              "          const dataTable =\n",
              "            await google.colab.kernel.invokeFunction('convertToInteractive',\n",
              "                                                     [key], {});\n",
              "          if (!dataTable) return;\n",
              "\n",
              "          const docLinkHtml = 'Like what you see? Visit the ' +\n",
              "            '<a target=\"_blank\" href=https://colab.research.google.com/notebooks/data_table.ipynb>data table notebook</a>'\n",
              "            + ' to learn more about interactive tables.';\n",
              "          element.innerHTML = '';\n",
              "          dataTable['output_type'] = 'display_data';\n",
              "          await google.colab.output.renderOutput(dataTable, element);\n",
              "          const docLink = document.createElement('div');\n",
              "          docLink.innerHTML = docLinkHtml;\n",
              "          element.appendChild(docLink);\n",
              "        }\n",
              "      </script>\n",
              "    </div>\n",
              "  </div>\n",
              "  "
            ],
            "text/plain": [
              "                      id  ...                                            comment\n",
              "112366  591e7ceac4e56588  ...  would agree while it is clear that gq is ripe ...\n",
              "108254  42aab9d0fdd419ed  ...            wrestlemania you son of a bitch a moron\n",
              "57809   9abcc8c3f9280395  ...  larry doby i have left some comments on that s...\n",
              "61339   a43208fc2de19df8  ...  for kicks the primary author of cartman gets a...\n",
              "158189  ea2714389f753568  ...  edit area do not include the tlx code tlx unbl...\n",
              "\n",
              "[5 rows x 12 columns]"
            ]
          },
          "metadata": {},
          "execution_count": 4
        }
      ]
    },
    {
      "cell_type": "code",
      "source": [
        "to_join = lambda x : \" \".join(x)\n",
        "data['join_tokens'] = data.comment_tokenize.apply(to_join)\n",
        "train_data['join_tokens'] = train_data.comment_tokenize.apply(to_join)\n",
        "valid_data['join_tokens'] = valid_data.comment_tokenize.apply(to_join)\n",
        "X_train = train_data['join_tokens']\n",
        "X_valid = valid_data['join_tokens']\n",
        "N = len(X_train)\n",
        "Y_train = np.zeros((N,6))\n",
        "Y_valid = np.zeros((len(X_valid),6))\n",
        "for i in range(N):\n",
        "  Y_train[i] = train_data['Target'].iloc[i]\n",
        "for i in range(len(X_valid)):\n",
        "  Y_valid[i] = valid_data['Target'].iloc[i]\n"
      ],
      "metadata": {
        "id": "x8fM94cf5-0p"
      },
      "execution_count": 5,
      "outputs": []
    },
    {
      "cell_type": "markdown",
      "source": [
        "unigram Bag of Words + NB"
      ],
      "metadata": {
        "id": "ARau9gvQo-9a"
      }
    },
    {
      "cell_type": "code",
      "source": [
        "cv = CountVectorizer()\n",
        "cv.fit(data['join_tokens'])\n",
        "X_train_feature = cv.transform(X_train)\n",
        "X_valid_feature  = cv.transform(X_valid)"
      ],
      "metadata": {
        "id": "K4sRJW80liEZ"
      },
      "execution_count": 6,
      "outputs": []
    },
    {
      "cell_type": "code",
      "source": [
        "from sklearn.multiclass import OneVsRestClassifier\n",
        "nb = MultinomialNB()\n",
        "clf = OneVsRestClassifier(nb)\n",
        "clf.fit(X_train_feature,Y_train)\n",
        "prob = clf.predict_proba(X_valid_feature)\n",
        "\n"
      ],
      "metadata": {
        "id": "08H6-PwGn1lX"
      },
      "execution_count": 7,
      "outputs": []
    },
    {
      "cell_type": "code",
      "source": [
        "#  mean accuracy \n",
        "mean_acc = clf.score(X_valid_feature,Y_valid)"
      ],
      "metadata": {
        "id": "OrmlHBZoqtbk"
      },
      "execution_count": 11,
      "outputs": []
    },
    {
      "cell_type": "code",
      "source": [
        "mean_acc"
      ],
      "metadata": {
        "colab": {
          "base_uri": "https://localhost:8080/"
        },
        "id": "vV77LWNrws3o",
        "outputId": "2d95addd-3105-4bad-876a-453af8b09a21"
      },
      "execution_count": 12,
      "outputs": [
        {
          "output_type": "execute_result",
          "data": {
            "text/plain": [
              "0.8988361683079678"
            ]
          },
          "metadata": {},
          "execution_count": 12
        }
      ]
    },
    {
      "cell_type": "code",
      "source": [
        "#  use tensors  for embeddings and deep learning for gpu training \n",
        "# if torch.cuda.is_available():\n",
        "#   device = torch.device(\"cuda\")\n",
        "# else:\n",
        "#   device = torch.device(\"cpu\")\n",
        "# from scipy.sparse import coo_matrix\n",
        "# #  converting sparse bag of words to sparse tensor \n",
        "# coo = coo_matrix(X_train_feature, shape=X_train_feature.shape)\n",
        "# values = coo.data\n",
        "# indices = np.vstack((coo.row, coo.col))\n",
        "\n",
        "# i = torch.LongTensor(indices)\n",
        "# v = torch.FloatTensor(values)\n",
        "# shape = coo.shape\n",
        "# X_train_feature = torch.sparse.FloatTensor(i, v, torch.Size(shape)).cuda()"
      ],
      "metadata": {
        "id": "kGE-vTSD5OHp"
      },
      "execution_count": 11,
      "outputs": []
    },
    {
      "cell_type": "code",
      "source": [
        "# coo = coo_matrix(X_valid_feature, shape=X_valid_feature.shape)\n",
        "# values = coo.data\n",
        "# indices = np.vstack((coo.row, coo.col))\n",
        "\n",
        "# i = torch.LongTensor(indices)\n",
        "# v = torch.FloatTensor(values)\n",
        "# shape = coo.shape\n",
        "# X_valid_feature = torch.sparse.FloatTensor(i, v, torch.Size(shape)).cuda()"
      ],
      "metadata": {
        "id": "P_W6oCYe9azK"
      },
      "execution_count": 13,
      "outputs": []
    },
    {
      "cell_type": "code",
      "source": [
        "# Y_train = torch.Tensor(Y_train).cuda()\n",
        "# Y_valid = torch.Tensor(Y_valid).cuda()"
      ],
      "metadata": {
        "id": "h2q5Gioz9o9W"
      },
      "execution_count": 15,
      "outputs": []
    },
    {
      "cell_type": "code",
      "source": [
        "\n"
      ],
      "metadata": {
        "id": "rXYkoY1-xKBW"
      },
      "execution_count": null,
      "outputs": []
    }
  ]
}